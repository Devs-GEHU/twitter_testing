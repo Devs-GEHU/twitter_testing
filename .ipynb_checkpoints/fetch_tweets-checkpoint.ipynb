{
 "cells": [
  {
   "cell_type": "code",
   "execution_count": 16,
   "id": "ece2e412",
   "metadata": {},
   "outputs": [],
   "source": [
    "import tweepy\n",
    "import pandas as pd"
   ]
  },
  {
   "cell_type": "code",
   "execution_count": 19,
   "id": "f0319c31",
   "metadata": {},
   "outputs": [],
   "source": [
    "%run ./keys.ipynb"
   ]
  },
  {
   "cell_type": "code",
   "execution_count": 20,
   "id": "043d71e6",
   "metadata": {},
   "outputs": [],
   "source": [
    "auth = tweepy.OAuthHandler(api_key,api_key_secret)\n",
    "auth.set_access_token(access_token,access_token_secret)\n",
    "api = tweepy.API(auth)"
   ]
  },
  {
   "cell_type": "code",
   "execution_count": 24,
   "id": "782c3710",
   "metadata": {},
   "outputs": [],
   "source": [
    "cursor = tweepy.Cursor(api.user_timeline, user_id=\"realDonaldTrump\", tweet_mode=\"extended\").items(1)"
   ]
  },
  {
   "cell_type": "code",
   "execution_count": 25,
   "id": "f059175e",
   "metadata": {},
   "outputs": [
    {
     "data": {
      "text/plain": [
       "<tweepy.cursor.ItemIterator at 0x17b642031f0>"
      ]
     },
     "execution_count": 25,
     "metadata": {},
     "output_type": "execute_result"
    }
   ],
   "source": [
    "cursor"
   ]
  },
  {
   "cell_type": "code",
   "execution_count": 26,
   "id": "b8e56024",
   "metadata": {},
   "outputs": [
    {
     "name": "stdout",
     "output_type": "stream",
     "text": [
      "Status(_api=<tweepy.api.API object at 0x0000017B641F7790>, _json={'created_at': 'Mon Apr 04 13:03:09 +0000 2022', 'id': 1510966201324908545, 'id_str': '1510966201324908545', 'full_text': 'To-do list for today:\\n✔️ Tweet\\n✔️ Have fun', 'truncated': False, 'display_text_range': [0, 42], 'entities': {'hashtags': [], 'symbols': [], 'user_mentions': [], 'urls': []}, 'source': '<a href=\"https://developer.twitter.com\" rel=\"nofollow\">Try a live request (t.co/tryapi)</a>', 'in_reply_to_status_id': None, 'in_reply_to_status_id_str': None, 'in_reply_to_user_id': None, 'in_reply_to_user_id_str': None, 'in_reply_to_screen_name': None, 'user': {'id': 1349549606204547078, 'id_str': '1349549606204547078', 'name': 'Priyanshu', 'screen_name': 'Priyans34429425', 'location': '', 'description': '', 'url': None, 'entities': {'description': {'urls': []}}, 'protected': False, 'followers_count': 6, 'friends_count': 55, 'listed_count': 0, 'created_at': 'Thu Jan 14 02:51:32 +0000 2021', 'favourites_count': 28, 'utc_offset': None, 'time_zone': None, 'geo_enabled': False, 'verified': False, 'statuses_count': 5, 'lang': None, 'contributors_enabled': False, 'is_translator': False, 'is_translation_enabled': False, 'profile_background_color': 'F5F8FA', 'profile_background_image_url': None, 'profile_background_image_url_https': None, 'profile_background_tile': False, 'profile_image_url': 'http://pbs.twimg.com/profile_images/1349550185500721152/agb80cb0_normal.jpg', 'profile_image_url_https': 'https://pbs.twimg.com/profile_images/1349550185500721152/agb80cb0_normal.jpg', 'profile_link_color': '1DA1F2', 'profile_sidebar_border_color': 'C0DEED', 'profile_sidebar_fill_color': 'DDEEF6', 'profile_text_color': '333333', 'profile_use_background_image': True, 'has_extended_profile': True, 'default_profile': True, 'default_profile_image': False, 'following': False, 'follow_request_sent': False, 'notifications': False, 'translator_type': 'none', 'withheld_in_countries': []}, 'geo': None, 'coordinates': None, 'place': None, 'contributors': None, 'is_quote_status': False, 'retweet_count': 0, 'favorite_count': 0, 'favorited': False, 'retweeted': False, 'lang': 'en'}, created_at=datetime.datetime(2022, 4, 4, 13, 3, 9, tzinfo=datetime.timezone.utc), id=1510966201324908545, id_str='1510966201324908545', full_text='To-do list for today:\\n✔️ Tweet\\n✔️ Have fun', truncated=False, display_text_range=[0, 42], entities={'hashtags': [], 'symbols': [], 'user_mentions': [], 'urls': []}, source='Try a live request (t.co/tryapi)', source_url='https://developer.twitter.com', in_reply_to_status_id=None, in_reply_to_status_id_str=None, in_reply_to_user_id=None, in_reply_to_user_id_str=None, in_reply_to_screen_name=None, author=User(_api=<tweepy.api.API object at 0x0000017B641F7790>, _json={'id': 1349549606204547078, 'id_str': '1349549606204547078', 'name': 'Priyanshu', 'screen_name': 'Priyans34429425', 'location': '', 'description': '', 'url': None, 'entities': {'description': {'urls': []}}, 'protected': False, 'followers_count': 6, 'friends_count': 55, 'listed_count': 0, 'created_at': 'Thu Jan 14 02:51:32 +0000 2021', 'favourites_count': 28, 'utc_offset': None, 'time_zone': None, 'geo_enabled': False, 'verified': False, 'statuses_count': 5, 'lang': None, 'contributors_enabled': False, 'is_translator': False, 'is_translation_enabled': False, 'profile_background_color': 'F5F8FA', 'profile_background_image_url': None, 'profile_background_image_url_https': None, 'profile_background_tile': False, 'profile_image_url': 'http://pbs.twimg.com/profile_images/1349550185500721152/agb80cb0_normal.jpg', 'profile_image_url_https': 'https://pbs.twimg.com/profile_images/1349550185500721152/agb80cb0_normal.jpg', 'profile_link_color': '1DA1F2', 'profile_sidebar_border_color': 'C0DEED', 'profile_sidebar_fill_color': 'DDEEF6', 'profile_text_color': '333333', 'profile_use_background_image': True, 'has_extended_profile': True, 'default_profile': True, 'default_profile_image': False, 'following': False, 'follow_request_sent': False, 'notifications': False, 'translator_type': 'none', 'withheld_in_countries': []}, id=1349549606204547078, id_str='1349549606204547078', name='Priyanshu', screen_name='Priyans34429425', location='', description='', url=None, entities={'description': {'urls': []}}, protected=False, followers_count=6, friends_count=55, listed_count=0, created_at=datetime.datetime(2021, 1, 14, 2, 51, 32, tzinfo=datetime.timezone.utc), favourites_count=28, utc_offset=None, time_zone=None, geo_enabled=False, verified=False, statuses_count=5, lang=None, contributors_enabled=False, is_translator=False, is_translation_enabled=False, profile_background_color='F5F8FA', profile_background_image_url=None, profile_background_image_url_https=None, profile_background_tile=False, profile_image_url='http://pbs.twimg.com/profile_images/1349550185500721152/agb80cb0_normal.jpg', profile_image_url_https='https://pbs.twimg.com/profile_images/1349550185500721152/agb80cb0_normal.jpg', profile_link_color='1DA1F2', profile_sidebar_border_color='C0DEED', profile_sidebar_fill_color='DDEEF6', profile_text_color='333333', profile_use_background_image=True, has_extended_profile=True, default_profile=True, default_profile_image=False, following=False, follow_request_sent=False, notifications=False, translator_type='none', withheld_in_countries=[]), user=User(_api=<tweepy.api.API object at 0x0000017B641F7790>, _json={'id': 1349549606204547078, 'id_str': '1349549606204547078', 'name': 'Priyanshu', 'screen_name': 'Priyans34429425', 'location': '', 'description': '', 'url': None, 'entities': {'description': {'urls': []}}, 'protected': False, 'followers_count': 6, 'friends_count': 55, 'listed_count': 0, 'created_at': 'Thu Jan 14 02:51:32 +0000 2021', 'favourites_count': 28, 'utc_offset': None, 'time_zone': None, 'geo_enabled': False, 'verified': False, 'statuses_count': 5, 'lang': None, 'contributors_enabled': False, 'is_translator': False, 'is_translation_enabled': False, 'profile_background_color': 'F5F8FA', 'profile_background_image_url': None, 'profile_background_image_url_https': None, 'profile_background_tile': False, 'profile_image_url': 'http://pbs.twimg.com/profile_images/1349550185500721152/agb80cb0_normal.jpg', 'profile_image_url_https': 'https://pbs.twimg.com/profile_images/1349550185500721152/agb80cb0_normal.jpg', 'profile_link_color': '1DA1F2', 'profile_sidebar_border_color': 'C0DEED', 'profile_sidebar_fill_color': 'DDEEF6', 'profile_text_color': '333333', 'profile_use_background_image': True, 'has_extended_profile': True, 'default_profile': True, 'default_profile_image': False, 'following': False, 'follow_request_sent': False, 'notifications': False, 'translator_type': 'none', 'withheld_in_countries': []}, id=1349549606204547078, id_str='1349549606204547078', name='Priyanshu', screen_name='Priyans34429425', location='', description='', url=None, entities={'description': {'urls': []}}, protected=False, followers_count=6, friends_count=55, listed_count=0, created_at=datetime.datetime(2021, 1, 14, 2, 51, 32, tzinfo=datetime.timezone.utc), favourites_count=28, utc_offset=None, time_zone=None, geo_enabled=False, verified=False, statuses_count=5, lang=None, contributors_enabled=False, is_translator=False, is_translation_enabled=False, profile_background_color='F5F8FA', profile_background_image_url=None, profile_background_image_url_https=None, profile_background_tile=False, profile_image_url='http://pbs.twimg.com/profile_images/1349550185500721152/agb80cb0_normal.jpg', profile_image_url_https='https://pbs.twimg.com/profile_images/1349550185500721152/agb80cb0_normal.jpg', profile_link_color='1DA1F2', profile_sidebar_border_color='C0DEED', profile_sidebar_fill_color='DDEEF6', profile_text_color='333333', profile_use_background_image=True, has_extended_profile=True, default_profile=True, default_profile_image=False, following=False, follow_request_sent=False, notifications=False, translator_type='none', withheld_in_countries=[]), geo=None, coordinates=None, place=None, contributors=None, is_quote_status=False, retweet_count=0, favorite_count=0, favorited=False, retweeted=False, lang='en')\n"
     ]
    }
   ],
   "source": [
    "for i in cursor:\n",
    "    print(i)"
   ]
  },
  {
   "cell_type": "code",
   "execution_count": null,
   "id": "4eb963c0",
   "metadata": {},
   "outputs": [],
   "source": []
  }
 ],
 "metadata": {
  "kernelspec": {
   "display_name": "Python 3 (ipykernel)",
   "language": "python",
   "name": "python3"
  },
  "language_info": {
   "codemirror_mode": {
    "name": "ipython",
    "version": 3
   },
   "file_extension": ".py",
   "mimetype": "text/x-python",
   "name": "python",
   "nbconvert_exporter": "python",
   "pygments_lexer": "ipython3",
   "version": "3.9.7"
  }
 },
 "nbformat": 4,
 "nbformat_minor": 5
}
