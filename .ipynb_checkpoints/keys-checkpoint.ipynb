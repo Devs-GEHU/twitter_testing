{
 "cells": [
  {
   "cell_type": "code",
   "execution_count": null,
   "id": "95f960de",
   "metadata": {},
   "outputs": [],
   "source": [
    "# consumer_key=\"Y3ThHGXyWosYFEQ621u4grUmM\"\n",
    "# consumer_secret=\"9tBQfYXnCCfNiMQ4RG9BS2nmy4lyDdzMsoihZsxgWj7klbmxW9\"\n",
    "# access_token=\"985780117786984449-0HDtLFrgyT1y5CjMvWdtlOaHyfJvel2\"\n",
    "# access_token_secret=\"vPGlzosMtGEXpVkxciyi78VU0WrxJdMp0FaENBvzVWX7Q\"\n",
    "api_key = \"i99rs24Wh9XaHooOnfPFsGgBP\"\n",
    "api_key_secret = \"eL6s3Y3EkP4UpKXRZM8WQPattMPzQBepUKUBFiBeSBxXEGXGqD\"\n",
    "access_token = \"1349549606204547078-N33OsO6jn4yjj50O2zE8Qr5ivProns\"\n",
    "access_token_secret = \"kzM6d2m76zWv7UJRjZbgvH5QLpe1QhjRykMZM7uFkj6rO\""
   ]
  }
 ],
 "metadata": {
  "kernelspec": {
   "display_name": "Python 3 (ipykernel)",
   "language": "python",
   "name": "python3"
  },
  "language_info": {
   "codemirror_mode": {
    "name": "ipython",
    "version": 3
   },
   "file_extension": ".py",
   "mimetype": "text/x-python",
   "name": "python",
   "nbconvert_exporter": "python",
   "pygments_lexer": "ipython3",
   "version": "3.9.7"
  }
 },
 "nbformat": 4,
 "nbformat_minor": 5
}
